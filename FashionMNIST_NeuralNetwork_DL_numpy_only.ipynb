{
  "cells": [
    {
      "cell_type": "markdown",
      "metadata": {
        "id": "view-in-github",
        "colab_type": "text"
      },
      "source": [
        "<a href=\"https://colab.research.google.com/github/ShaniYamin/Fashion-MNIST-NN-DL-numpyOnly/blob/main/FashionMNIST_NeuralNetwork_DL_numpy_only.ipynb\" target=\"_parent\"><img src=\"https://colab.research.google.com/assets/colab-badge.svg\" alt=\"Open In Colab\"/></a>"
      ]
    },
    {
      "cell_type": "markdown",
      "metadata": {
        "collapsed": false,
        "id": "XDDbguyGU8Fs"
      },
      "source": [
        "# First assignment  - Basics of deep learning\n",
        "\n",
        "\n",
        "---\n",
        "<br>\n",
        "\n",
        "### Names\n",
        "Student 1: Noam Meir \n",
        "<br>\n",
        "Student 2: Shani Yamin "
      ]
    },
    {
      "cell_type": "markdown",
      "metadata": {
        "id": "JLkWLC8f3HZI"
      },
      "source": [
        "## Fashion MNIST\n",
        "Fashion MNIST dataset contains 70,000 grayscale images in 10 categories. The images show individual articles of clothing at low resolution (28 by 28 pixels), as seen here:\n",
        "\n",
        "<table>\n",
        "  <tr><td>\n",
        "    <img src=\"https://tensorflow.org/images/fashion-mnist-sprite.png\"\n",
        "         alt=\"Fashion MNIST sprite\"  width=\"600\">\n",
        "  </td></tr>\n",
        "  \n",
        "</table>\n",
        "\n"
      ]
    },
    {
      "cell_type": "markdown",
      "metadata": {
        "id": "WiRxNFCn3Vxd"
      },
      "source": [
        "Loading the dataset returns four NumPy arrays:\n",
        "\n",
        "* The `train_images` and `train_labels` arrays are the *training set*—the data the model uses to learn.\n",
        "* The model is tested against the *test set*, the `test_images`, and `test_labels` arrays.\n",
        "\n",
        "The images are 28x28 NumPy arrays, with pixel values ranging between 0 and 255. The *labels* are an array of integers, ranging from 0 to 9. These correspond to the *class* of clothing the image represents:\n",
        "\n",
        "<table>\n",
        "  <tr>\n",
        "    <th>Label</th>\n",
        "    <th>Class</th>\n",
        "  </tr>\n",
        "  <tr>\n",
        "    <td>0</td>\n",
        "    <td>T-shirt/top</td>\n",
        "  </tr>\n",
        "  <tr>\n",
        "    <td>1</td>\n",
        "    <td>Trouser</td>\n",
        "  </tr>\n",
        "    <tr>\n",
        "    <td>2</td>\n",
        "    <td>Pullover</td>\n",
        "  </tr>\n",
        "    <tr>\n",
        "    <td>3</td>\n",
        "    <td>Dress</td>\n",
        "  </tr>\n",
        "    <tr>\n",
        "    <td>4</td>\n",
        "    <td>Coat</td>\n",
        "  </tr>\n",
        "    <tr>\n",
        "    <td>5</td>\n",
        "    <td>Sandal</td>\n",
        "  </tr>\n",
        "    <tr>\n",
        "    <td>6</td>\n",
        "    <td>Shirt</td>\n",
        "  </tr>\n",
        "    <tr>\n",
        "    <td>7</td>\n",
        "    <td>Sneaker</td>\n",
        "  </tr>\n",
        "    <tr>\n",
        "    <td>8</td>\n",
        "    <td>Bag</td>\n",
        "  </tr>\n",
        "    <tr>\n",
        "    <td>9</td>\n",
        "    <td>Ankle boot</td>\n",
        "  </tr>\n",
        "</table>\n",
        "\n",
        "<br>\n",
        "\n",
        "# Goodluck!"
      ]
    },
    {
      "cell_type": "markdown",
      "metadata": {
        "collapsed": false,
        "id": "4K84YZ_QU8Fv"
      },
      "source": [
        "#Neural Network in plain NumPy"
      ]
    },
    {
      "cell_type": "markdown",
      "metadata": {
        "id": "QReFpU112hLT"
      },
      "source": [
        "## Import Libraries"
      ]
    },
    {
      "cell_type": "code",
      "execution_count": 2,
      "metadata": {
        "id": "tLOHjUiFU8Fv"
      },
      "outputs": [],
      "source": [
        "import numpy as np\n",
        "import matplotlib\n",
        "import matplotlib.pyplot as plt\n",
        "from sklearn.datasets import fetch_openml\n",
        "from sklearn.metrics import classification_report, confusion_matrix\n"
      ]
    },
    {
      "cell_type": "markdown",
      "metadata": {
        "id": "D5MsCpUv2tuj"
      },
      "source": [
        "## Load Dataset"
      ]
    },
    {
      "cell_type": "code",
      "execution_count": 3,
      "metadata": {
        "id": "nbzv9ZYA2pyW",
        "colab": {
          "base_uri": "https://localhost:8080/"
        },
        "outputId": "724339b1-4eba-4eee-ae9a-ffaab058c354"
      },
      "outputs": [
        {
          "output_type": "stream",
          "name": "stdout",
          "text": [
            "(70000, 784) (70000,)\n"
          ]
        }
      ],
      "source": [
        "X, y = fetch_openml('Fashion-MNIST', version=1, return_X_y=True, as_frame=False)\n",
        "print(X.shape, y.shape)"
      ]
    },
    {
      "cell_type": "markdown",
      "metadata": {
        "id": "GPBGGKtSoVpU"
      },
      "source": [
        "## Data preprocessing (10%)"
      ]
    },
    {
      "cell_type": "markdown",
      "metadata": {
        "id": "LZfq8otp-wXY"
      },
      "source": [
        "### Feature scaling"
      ]
    },
    {
      "cell_type": "code",
      "execution_count": 4,
      "metadata": {
        "id": "7MZtZIzzDIKe",
        "colab": {
          "base_uri": "https://localhost:8080/"
        },
        "outputId": "1839ad8d-2844-4e86-a185-33fc68eae339"
      },
      "outputs": [
        {
          "output_type": "stream",
          "name": "stdout",
          "text": [
            "(784, 70000)\n",
            "(1, 70000)\n"
          ]
        }
      ],
      "source": [
        "examples = y.shape[0]\n",
        "y1 = y.reshape(1, examples)\n",
        "X1 = X / 255\n",
        "X1 = X1.T\n",
        "print(X1.shape)\n",
        "print(y1.shape) "
      ]
    },
    {
      "cell_type": "markdown",
      "metadata": {
        "id": "i6K01j7A_Z4W"
      },
      "source": [
        "### Select two classes"
      ]
    },
    {
      "cell_type": "markdown",
      "source": [
        "choose what labels we are going to learn, create a new matrix (X-Data) from all data to the relevant labels,\n",
        "so the matrix sizes will be (amount of the labels that are relevant, 784 for the pixels in the pictures)\n",
        "and create new labels matrix that includes only label0,label1. \n",
        "At the labels(y)Put 0.0 for label0 and 1.0 for label1, to classify success or failure for our learning."
      ],
      "metadata": {
        "id": "-gfsj-2LGSi3"
      }
    },
    {
      "cell_type": "code",
      "execution_count": 5,
      "metadata": {
        "id": "7OuPZ0o8DNWq",
        "colab": {
          "base_uri": "https://localhost:8080/"
        },
        "outputId": "966784d6-c8f3-449a-d947-1dc50e98d43b"
      },
      "outputs": [
        {
          "output_type": "stream",
          "name": "stdout",
          "text": [
            "(14000, 784)\n",
            "(14000, 1)\n"
          ]
        }
      ],
      "source": [
        "#TODO: select two classes (for example 2-Pullover and 4-Coat)\n",
        "labels=[]\n",
        "matrix=[]\n",
        "label0='5'\n",
        "label1='9'\n",
        "X2=np.transpose(X1)\n",
        "for i, value in enumerate(y1[0]):\n",
        "  if value==label0 or value ==label1:\n",
        "    if value==label0:\n",
        "      labels.append(0.0)\n",
        "    else:\n",
        "      labels.append(1.0)\n",
        "    row=X2[i,:]\n",
        "    matrix.append(row)\n",
        "\n",
        "matrix=np.asarray(matrix)\n",
        "print(matrix.shape)\n",
        "labels=np.asarray(labels).reshape(len(labels),1)\n",
        "print(labels.shape)"
      ]
    },
    {
      "cell_type": "markdown",
      "metadata": {
        "id": "cn5UPcIQH2jS"
      },
      "source": [
        "### Split the data into Train set and Test set"
      ]
    },
    {
      "cell_type": "markdown",
      "source": [
        "Determine X,and Y by the data matrix and labels matrix.\n",
        "Split the data into Train set and Test set."
      ],
      "metadata": {
        "id": "V53_3e4XGPe9"
      }
    },
    {
      "cell_type": "code",
      "execution_count": 6,
      "metadata": {
        "id": "FBUI2DZmhd0y"
      },
      "outputs": [],
      "source": [
        "# TODO: Split the data into Train set and Test set (The use of libraries other than Numpy is strictly prohibited)\n",
        "\n",
        "from sklearn.utils import shuffle\n",
        "\n",
        "X = matrix\n",
        "Y = labels\n",
        "\n",
        "# Use shuffle on the train data\n",
        "X, y = shuffle(X, Y)\n",
        "\n",
        "split_pct = int(0.7*int(len(X)))\n",
        "X_train, X_test = np.transpose(X[:split_pct]),np.transpose(X[split_pct:])\n",
        "Y_train, Y_test = y[:split_pct],y[split_pct:]\n"
      ]
    },
    {
      "cell_type": "markdown",
      "metadata": {
        "id": "gg7D7fwGH9Yv"
      },
      "source": [
        "### Test yourself"
      ]
    },
    {
      "cell_type": "code",
      "execution_count": 7,
      "metadata": {
        "id": "wkLl0PSyDR9S",
        "colab": {
          "base_uri": "https://localhost:8080/",
          "height": 265
        },
        "outputId": "7296e304-31d9-408d-b768-db1e4692eba4"
      },
      "outputs": [
        {
          "output_type": "display_data",
          "data": {
            "text/plain": [
              "<Figure size 432x288 with 1 Axes>"
            ],
            "image/png": "[encoded data removed]"
          },
          "metadata": {
            "needs_background": "light"
          }
        },
        {
          "output_type": "execute_result",
          "data": {
            "text/plain": [
              "1.0"
            ]
          },
          "metadata": {},
          "execution_count": 7
        }
      ],
      "source": [
        "# Test yourself (Check that the classes you have selected are actually displayed)\n",
        "%matplotlib inline\n",
        "from numpy import random\n",
        "\n",
        "i = random.randint(100)\n",
        "plt.imshow(X_train[:,i].reshape(28,28), cmap = matplotlib.cm.binary)\n",
        "plt.axis(\"off\")\n",
        "plt.show()\n",
        "Y_train[i,0]"
      ]
    },
    {
      "cell_type": "markdown",
      "metadata": {
        "id": "Q81OW5M7oCWZ"
      },
      "source": [
        "## Activation functions (10%)"
      ]
    },
    {
      "cell_type": "markdown",
      "source": [
        "implement sigmoid function"
      ],
      "metadata": {
        "id": "15eBIUmIGLhu"
      }
    },
    {
      "cell_type": "code",
      "execution_count": 8,
      "metadata": {
        "id": "nxruxXBsDmP-"
      },
      "outputs": [],
      "source": [
        "#TODO: Sigmoid activation function\n",
        "def sigmoid(z):\n",
        "  newZ=np.float128(z)\n",
        "  return 1/(1+np.exp(-newZ))"
      ]
    },
    {
      "cell_type": "markdown",
      "metadata": {
        "id": "OBIAUcVboOG9"
      },
      "source": [
        "## Loss function (20%)\n",
        "BCE Loss function captures the intuition that the neural network should pay a high penalty(Loss→∞) when the estimated probability, with respect to the training example’s label, is completely wrong. On the other hand, the Loss should equal zero(Loss=0) when the estimated probability, with respect to the training example’s label, is correct. Simply put, the BCE Loss should equal zero in only two instances:<br>\n",
        "* if the example is positively labeled(y=1) the neural network model should be completely sure that the example belongs to the positive class i.e p̂=1.\n",
        "* if the example is negatively labeled(y=0) the neural network model should be completely sure that the example does not belong to the positive class i.e p̂=0.\n",
        "\n",
        "<b> When we work with a computer, there are very high values or very low values that it cannot handle and that could cause the system to crash. <br>In order to overcome the case where the function returns values that strive for infinity you will need to understand which range of values causes the logarithm to return inf \\ -inf and handle this within the function. </b>"
      ]
    },
    {
      "cell_type": "markdown",
      "source": [
        "   implement binary cross entropy that compares each of the predicted probabilities to actual class output which can be either 0 or 1."
      ],
      "metadata": {
        "id": "ur6ehEM1GEMp"
      }
    },
    {
      "cell_type": "code",
      "execution_count": 9,
      "metadata": {
        "id": "U0i2o9_KDUdQ"
      },
      "outputs": [],
      "source": [
        "#TODO: Binary cross entropy\n",
        "def log_loss(y_hat, Y):\n",
        "    '''\n",
        "    Logistic loss, assuming a single value in y_hat and y.\n",
        "    '''\n",
        "    return -(Y * np.log(y_hat) + (1 - Y) * (np.log(1 - y_hat))).mean()"
      ]
    },
    {
      "cell_type": "markdown",
      "metadata": {
        "id": "WY9DQPrJmvHZ"
      },
      "source": [
        "## NN Hyper Parameters"
      ]
    },
    {
      "cell_type": "markdown",
      "source": [
        "choose the variables which determines the network structure(Hidden Layer) \n",
        "and the variables which determine how the network is trained(Learning Rate)"
      ],
      "metadata": {
        "id": "bNIfhUaLF87n"
      }
    },
    {
      "cell_type": "code",
      "execution_count": 10,
      "metadata": {
        "id": "qGCU_QYRnJap",
        "colab": {
          "base_uri": "https://localhost:8080/"
        },
        "outputId": "51797f4a-fc17-4b0f-bd87-2e27023d5723"
      },
      "outputs": [
        {
          "output_type": "stream",
          "name": "stdout",
          "text": [
            "9800\n"
          ]
        }
      ],
      "source": [
        "\n",
        "input_layer = X_train.shape[0] # 28X28 = 784\n",
        "print(len(X_train[0]))\n",
        "hidden_layer = 5 \n",
        "learning_rate = 0.01 \n",
        "epochs = 100 "
      ]
    },
    {
      "cell_type": "markdown",
      "metadata": {
        "id": "M6SdHpc2m3vV"
      },
      "source": [
        "## Weight and Bias Initialization"
      ]
    },
    {
      "cell_type": "markdown",
      "source": [
        "Initialize the weight and bias "
      ],
      "metadata": {
        "id": "1xB61v40Fu61"
      }
    },
    {
      "cell_type": "code",
      "execution_count": 11,
      "metadata": {
        "id": "IVRoMGxTnLZI",
        "colab": {
          "base_uri": "https://localhost:8080/"
        },
        "outputId": "80ee6379-5a90-4833-feff-fd73dd22aab8"
      },
      "outputs": [
        {
          "output_type": "stream",
          "name": "stdout",
          "text": [
            "(5, 784)\n",
            "(5, 1)\n",
            "(1, 5)\n",
            "(1, 1)\n",
            "(14000, 784)\n"
          ]
        }
      ],
      "source": [
        "\n",
        "W1 = np.random.randn(hidden_layer, input_layer)\n",
        "b1 = np.zeros((hidden_layer, 1))\n",
        "W2 = np.random.randn(1, hidden_layer)\n",
        "b2 = np.zeros((1, 1))\n",
        "\n",
        "print(W1.shape)\n",
        "# print(W1)\n",
        "print(b1.shape)\n",
        "# print(b1)\n",
        "print(W2.shape)\n",
        "# print(W2)\n",
        "print(b2.shape)\n",
        "# print(b2)\n",
        "print(X.shape)\n"
      ]
    },
    {
      "cell_type": "markdown",
      "metadata": {
        "id": "fp-IaWECn6Hu"
      },
      "source": [
        "## Training (30%)"
      ]
    },
    {
      "cell_type": "code",
      "execution_count": 12,
      "metadata": {
        "colab": {
          "base_uri": "https://localhost:8080/"
        },
        "id": "4tdlcCGLDo7F",
        "outputId": "4cc0a205-7d9c-42bd-a458-ad27273bb3f2"
      },
      "outputs": [
        {
          "output_type": "stream",
          "name": "stdout",
          "text": [
            "Epoch 0  Loss: 0.48255426846650953317\n",
            "Epoch 1  Loss: 0.27313791676541168457\n",
            "Epoch 2  Loss: 0.1856241906408749628\n",
            "Epoch 3  Loss: 0.14955780879789634392\n",
            "Epoch 4  Loss: 0.13007522148246651989\n",
            "Epoch 5  Loss: 0.11753578306126458231\n",
            "Epoch 6  Loss: 0.10819971284794773705\n",
            "Epoch 7  Loss: 0.10075127892430876499\n",
            "Epoch 8  Loss: 0.09431914793129136261\n",
            "Epoch 9  Loss: 0.088860877103060824394\n",
            "Epoch 10  Loss: 0.08376341731570634529\n",
            "Epoch 11  Loss: 0.078743254137430705386\n",
            "Epoch 12  Loss: 0.07424724484779269886\n",
            "Epoch 13  Loss: 0.07067419896985874739\n",
            "Epoch 14  Loss: 0.06767069151589585499\n",
            "Epoch 15  Loss: 0.06491084218929980118\n",
            "Epoch 16  Loss: 0.06232210986652226731\n",
            "Epoch 17  Loss: 0.060009997727303644324\n",
            "Epoch 18  Loss: 0.057987023230864063286\n",
            "Epoch 19  Loss: 0.056132317633299114587\n",
            "Epoch 20  Loss: 0.054374253661615410545\n",
            "Epoch 21  Loss: 0.052704335603384491053\n",
            "Epoch 22  Loss: 0.051142281071178217142\n",
            "Epoch 23  Loss: 0.049692263380135317225\n",
            "Epoch 24  Loss: 0.048327467105320145844\n",
            "Epoch 25  Loss: 0.047031609934579108585\n",
            "Epoch 26  Loss: 0.0458043212497850434\n",
            "Epoch 27  Loss: 0.044671069134111866628\n",
            "Epoch 28  Loss: 0.043629850267837628167\n",
            "Epoch 29  Loss: 0.042655875889857064792\n",
            "Epoch 30  Loss: 0.041730313821814319177\n",
            "Epoch 31  Loss: 0.040857249957928511637\n",
            "Epoch 32  Loss: 0.03995824655331663412\n",
            "Epoch 33  Loss: 0.03909285929224140941\n",
            "Epoch 34  Loss: 0.03841136321918929794\n",
            "Epoch 35  Loss: 0.037772992378890895508\n",
            "Epoch 36  Loss: 0.037125868740109448953\n",
            "Epoch 37  Loss: 0.03646247772797734591\n",
            "Epoch 38  Loss: 0.03579184876729200487\n",
            "Epoch 39  Loss: 0.035125148021633624168\n",
            "Epoch 40  Loss: 0.034466768913173384518\n",
            "Epoch 41  Loss: 0.033789710220724883357\n",
            "Epoch 42  Loss: 0.033016961540310532923\n",
            "Epoch 43  Loss: 0.032155395360199052948\n",
            "Epoch 44  Loss: 0.031429442200702189352\n",
            "Epoch 45  Loss: 0.030803206610151727438\n",
            "Epoch 46  Loss: 0.030220211211734447626\n",
            "Epoch 47  Loss: 0.029675818994761935938\n",
            "Epoch 48  Loss: 0.029161385812058431886\n",
            "Epoch 49  Loss: 0.028652878638142981377\n",
            "Epoch 50  Loss: 0.02814402695748853928\n",
            "Epoch 51  Loss: 0.02767136584698356737\n",
            "Epoch 52  Loss: 0.027241904017898756807\n",
            "Epoch 53  Loss: 0.026838506295213643735\n",
            "Epoch 54  Loss: 0.026453227032185722312\n",
            "Epoch 55  Loss: 0.02608482392303520842\n",
            "Epoch 56  Loss: 0.02573189766523050192\n",
            "Epoch 57  Loss: 0.025392206164344222525\n",
            "Epoch 58  Loss: 0.025064146875527033335\n",
            "Epoch 59  Loss: 0.024747230528269056674\n",
            "Epoch 60  Loss: 0.02444104388593186208\n",
            "Epoch 61  Loss: 0.024144189603635755956\n",
            "Epoch 62  Loss: 0.023853967781761886135\n",
            "Epoch 63  Loss: 0.023566636964271072089\n",
            "Epoch 64  Loss: 0.023278701240385327076\n",
            "Epoch 65  Loss: 0.022990909723104086745\n",
            "Epoch 66  Loss: 0.022663632246915918608\n",
            "Epoch 67  Loss: 0.022200149786191125082\n",
            "Epoch 68  Loss: 0.021861748000836460357\n",
            "Epoch 69  Loss: 0.021571241845163431771\n",
            "Epoch 70  Loss: 0.021286581481680573936\n",
            "Epoch 71  Loss: 0.021005976836580378265\n",
            "Epoch 72  Loss: 0.020736421938246519648\n",
            "Epoch 73  Loss: 0.020482884159641462682\n",
            "Epoch 74  Loss: 0.020242621566800682554\n",
            "Epoch 75  Loss: 0.020005449066365968356\n",
            "Epoch 76  Loss: 0.019756344230214660769\n",
            "Epoch 77  Loss: 0.019485533396418450487\n",
            "Epoch 78  Loss: 0.019209284397169822034\n",
            "Epoch 79  Loss: 0.018960410174537105145\n",
            "Epoch 80  Loss: 0.018745823252365156313\n",
            "Epoch 81  Loss: 0.018553798890798081843\n",
            "Epoch 82  Loss: 0.018375283200646748936\n",
            "Epoch 83  Loss: 0.018205093508685038477\n",
            "Epoch 84  Loss: 0.018038979009670480904\n",
            "Epoch 85  Loss: 0.017869960891742460957\n",
            "Epoch 86  Loss: 0.017680827136842871184\n",
            "Epoch 87  Loss: 0.017447987612815375551\n",
            "Epoch 88  Loss: 0.017202260578489622874\n",
            "Epoch 89  Loss: 0.01699390447054082469\n",
            "Epoch 90  Loss: 0.016759962495540767918\n",
            "Epoch 91  Loss: 0.016495031288940498081\n",
            "Epoch 92  Loss: 0.016290065045028055909\n",
            "Epoch 93  Loss: 0.01609851261225941082\n",
            "Epoch 94  Loss: 0.015958161994463170533\n",
            "Epoch 95  Loss: 0.015833030974861367137\n",
            "Epoch 96  Loss: 0.01571583495086082726\n",
            "Epoch 97  Loss: 0.01560475912263517717\n",
            "Epoch 98  Loss: 0.0154982359277088668276\n",
            "Epoch 99  Loss: 0.0153942954121471977915\n"
          ]
        }
      ],
      "source": [
        "'''\n",
        "\n",
        "'''\n",
        "X = X_train\n",
        "Y = Y_train\n",
        "loss_list = []\n",
        "epoch_list = []\n",
        "\n",
        "numOfTraining = len(X_train[1])# Write the number of examples in your train set\n",
        "for i in range(epochs):\n",
        "  avg_epoch_loss = 0\n",
        "  for j in range(numOfTraining):\n",
        "    # TODO :  Forward propagation\n",
        "    '''\n",
        "    where input data is fed through a network, in a forward direction, to generate an output\n",
        "    '''\n",
        "    X_j = X[:,j].reshape(X[:,j].shape[0],1)\n",
        "    Z1 = np.dot(W1, X_j) + b1 # DO NOT FORGET TO ADD THE BIAS\n",
        "    A1 = sigmoid(Z1)\n",
        "    Z2 = np.dot(W2, A1) + b2\n",
        "    A2 = sigmoid(Z2)\n",
        "    Yout = int(Y[j])\n",
        "    \n",
        "\n",
        "    # TODO: Compute loss\n",
        "    loss = log_loss( A2, Yout)\n",
        "    avg_epoch_loss = avg_epoch_loss + loss\n",
        "    \n",
        "    # TODO: Back propagation\n",
        "    '''\n",
        "    implement the algorithm that is designed to test for errors working back from output nodes to input nodes\n",
        "    We gave the machine the derivative of the data because we want the weights to change in accordance with the success and the failure.\n",
        "    '''\n",
        "    dZ2 = A2 - Yout\n",
        "    dW2 = np.dot(dZ2, A1.T)\n",
        "    db2 = dZ2\n",
        "\n",
        "    dZ1 = A1* (1 - A1)*np.dot(W2.T, dZ2)\n",
        "    dW1 = np.dot(dZ1, X_j.T)\n",
        "    db1 = dZ1\n",
        "\n",
        "    # TODO: Update weights\n",
        "    '''\n",
        "    updating the weights according to our feedback from the derivative of the last place in the neural network.\n",
        "    '''\n",
        "    W1 = W1 - learning_rate * dW1 \n",
        "    b1 = b1 - learning_rate * db1 \n",
        "    W2 = W2 - learning_rate * dW2 \n",
        "    b2 = b2 - learning_rate * db2 \n",
        "  avg_epoch_loss = avg_epoch_loss/numOfTraining\n",
        "  loss_list.append(avg_epoch_loss)\n",
        "  epoch_list.append(i)\n",
        "  print(\"Epoch\", i,\" Loss:\", avg_epoch_loss)"
      ]
    },
    {
      "cell_type": "markdown",
      "metadata": {
        "id": "TdgCk97534-B"
      },
      "source": [
        "### Loss Visualization"
      ]
    },
    {
      "cell_type": "code",
      "execution_count": 13,
      "metadata": {
        "id": "RFo9NN5Q31X8",
        "colab": {
          "base_uri": "https://localhost:8080/",
          "height": 298
        },
        "outputId": "21b994f3-32c0-4032-f1be-4f5d57a0a87a"
      },
      "outputs": [
        {
          "output_type": "execute_result",
          "data": {
            "text/plain": [
              "[<matplotlib.lines.Line2D at 0x7f4879721a00>]"
            ]
          },
          "metadata": {},
          "execution_count": 13
        },
        {
          "output_type": "display_data",
          "data": {
            "text/plain": [
              "<Figure size 432x288 with 1 Axes>"
            ],
            "image/png": "[encoded data removed]"
          },
          "metadata": {
            "needs_background": "light"
          }
        }
      ],
      "source": [
        "import matplotlib.pyplot as plt\n",
        "plt.xlabel('Epoch Number')\n",
        "plt.ylabel(\"Loss\")\n",
        "plt.plot(epoch_list, loss_list)"
      ]
    },
    {
      "cell_type": "markdown",
      "metadata": {
        "id": "5HV5g7j92Xfn"
      },
      "source": [
        "## Results"
      ]
    },
    {
      "cell_type": "markdown",
      "metadata": {
        "id": "raBFclM5ploH"
      },
      "source": [
        "### Test your performance (30%)"
      ]
    },
    {
      "cell_type": "markdown",
      "source": [
        "Checking if our train and NN Hyper Parameters are training well and if our accuracy is accurate"
      ],
      "metadata": {
        "id": "MDXSW3A6GcdK"
      }
    },
    {
      "cell_type": "code",
      "execution_count": 14,
      "metadata": {
        "id": "flfh-luxDs7Z",
        "colab": {
          "base_uri": "https://localhost:8080/"
        },
        "outputId": "e6694a9f-231f-4cc5-eb64-c6de702ddbaa"
      },
      "outputs": [
        {
          "output_type": "stream",
          "name": "stdout",
          "text": [
            "[[2012   39]\n",
            " [  58 2091]]\n",
            "Accuracy:  97.69 %\n"
          ]
        }
      ],
      "source": [
        "#TODO: Forward batch of examples\n",
        "X = X_test\n",
        "Y = Y_test\n",
        "\n",
        "Z1 = np.dot(W1, X) + b1\n",
        "A1 = sigmoid(Z1)\n",
        "Z2 = np.dot(W2, A1) + b2\n",
        "A2 = sigmoid(Z2)\n",
        "\n",
        "\n",
        "predictions = np.zeros((1,Y.shape[0]))\n",
        "labels = np.zeros((1,Y.shape[0]))\n",
        "\n",
        "# Check your predictions against the test's labels\n",
        "for i in range(Y.shape[0]):\n",
        "  if (A2[0,i] > 0.5): \n",
        "    predictions[0,i] = 1\n",
        "  labels[0,i] = Y[i,0]\n",
        "\n",
        "confusion = confusion_matrix(predictions.T, labels.T)\n",
        "confcalc = (confusion[0,0]+confusion[1,1])/(confusion[0,0]+confusion[0,1]+confusion[1,0]+confusion[1,1])\n",
        "# Print the confusion matrix In order to test your performance\n",
        "print(confusion)\n",
        "print(\"Accuracy: \",(int(confcalc*10000)/100),\"%\")"
      ]
    },
    {
      "cell_type": "markdown",
      "metadata": {
        "id": "7FtZr0EQBlcm"
      },
      "source": [
        "### Visualize the results"
      ]
    },
    {
      "cell_type": "code",
      "execution_count": 19,
      "metadata": {
        "id": "gAj_5W2wVUrI",
        "colab": {
          "base_uri": "https://localhost:8080/",
          "height": 1000
        },
        "outputId": "1d5567a2-dfdc-4048-a713-338eec9bda42"
      },
      "outputs": [
        {
          "output_type": "display_data",
          "data": {
            "text/plain": [
              "<Figure size 432x288 with 1 Axes>"
            ],
            "image/png": "[encoded data removed]"
          },
          "metadata": {
            "needs_background": "light"
          }
        },
        {
          "output_type": "stream",
          "name": "stdout",
          "text": [
            "1.0\n",
            "Real= 1.0 Predicted= [[0.99835294]]\n"
          ]
        },
        {
          "output_type": "display_data",
          "data": {
            "text/plain": [
              "<Figure size 432x288 with 1 Axes>"
            ],
            "image/png": "[encoded data removed]"
          },
          "metadata": {
            "needs_background": "light"
          }
        },
        {
          "output_type": "stream",
          "name": "stdout",
          "text": [
            "1.0\n",
            "Real= 1.0 Predicted= [[0.99835289]]\n"
          ]
        },
        {
          "output_type": "display_data",
          "data": {
            "text/plain": [
              "<Figure size 432x288 with 1 Axes>"
            ],
            "image/png": "[encoded data removed]"
          },
          "metadata": {
            "needs_background": "light"
          }
        },
        {
          "output_type": "stream",
          "name": "stdout",
          "text": [
            "0.0\n",
            "Real= 0.0 Predicted= [[0.00034348]]\n"
          ]
        },
        {
          "output_type": "display_data",
          "data": {
            "text/plain": [
              "<Figure size 432x288 with 1 Axes>"
            ],
            "image/png": "[encoded data removed]"
          },
          "metadata": {
            "needs_background": "light"
          }
        },
        {
          "output_type": "stream",
          "name": "stdout",
          "text": [
            "1.0\n",
            "Real= 1.0 Predicted= [[0.99835248]]\n"
          ]
        },
        {
          "output_type": "display_data",
          "data": {
            "text/plain": [
              "<Figure size 432x288 with 1 Axes>"
            ],
            "image/png": "[encoded data removed]"
          },
          "metadata": {
            "needs_background": "light"
          }
        },
        {
          "output_type": "stream",
          "name": "stdout",
          "text": [
            "0.0\n",
            "Real= 0.0 Predicted= [[0.71200268]]\n"
          ]
        },
        {
          "output_type": "display_data",
          "data": {
            "text/plain": [
              "<Figure size 432x288 with 1 Axes>"
            ],
            "image/png": "[encoded data removed]"
          },
          "metadata": {
            "needs_background": "light"
          }
        },
        {
          "output_type": "stream",
          "name": "stdout",
          "text": [
            "0.0\n",
            "Real= 0.0 Predicted= [[0.24090304]]\n"
          ]
        },
        {
          "output_type": "display_data",
          "data": {
            "text/plain": [
              "<Figure size 432x288 with 1 Axes>"
            ],
            "image/png": "[encoded data removed]"
          },
          "metadata": {
            "needs_background": "light"
          }
        },
        {
          "output_type": "stream",
          "name": "stdout",
          "text": [
            "1.0\n",
            "Real= 1.0 Predicted= [[0.99835272]]\n"
          ]
        },
        {
          "output_type": "display_data",
          "data": {
            "text/plain": [
              "<Figure size 432x288 with 1 Axes>"
            ],
            "image/png": "[encoded data removed]"
          },
          "metadata": {
            "needs_background": "light"
          }
        },
        {
          "output_type": "stream",
          "name": "stdout",
          "text": [
            "0.0\n",
            "Real= 0.0 Predicted= [[0.01481946]]\n"
          ]
        },
        {
          "output_type": "display_data",
          "data": {
            "text/plain": [
              "<Figure size 432x288 with 1 Axes>"
            ],
            "image/png": "[encoded data removed]"
          },
          "metadata": {
            "needs_background": "light"
          }
        },
        {
          "output_type": "stream",
          "name": "stdout",
          "text": [
            "1.0\n",
            "Real= 1.0 Predicted= [[0.99835295]]\n"
          ]
        },
        {
          "output_type": "display_data",
          "data": {
            "text/plain": [
              "<Figure size 432x288 with 1 Axes>"
            ],
            "image/png": "[encoded data removed]"
          },
          "metadata": {
            "needs_background": "light"
          }
        },
        {
          "output_type": "stream",
          "name": "stdout",
          "text": [
            "0.0\n",
            "Real= 0.0 Predicted= [[2.76425382e-06]]\n"
          ]
        }
      ],
      "source": [
        "#TODO: SHOW VISUALLY RESULTS ON 10 TEST EXAMPLES\n",
        "%matplotlib inline\n",
        "from numpy import random\n",
        "for j in range(10):\n",
        "  i = random.randint(2000)\n",
        "  plt.imshow(X_test[:,i].reshape(28,28), cmap = matplotlib.cm.binary)\n",
        "  plt.axis(\"off\")\n",
        "  plt.show()\n",
        "  Y_test[i,0]\n",
        "\n",
        "\n",
        "  Z1 = np.dot(W1,X_test[:,i])\n",
        "  A1 = sigmoid(Z1)\n",
        "  Z2 = np.dot(W2, A1) + b2\n",
        "  A2 = sigmoid(Z2)\n",
        "\n",
        "  Yout = Y[i,0]\n",
        "  print(Yout)\n",
        "  print(\"Real=\", Y_test[i,0], \"Predicted=\",A2)"
      ]
    }
  ],
  "metadata": {
    "accelerator": "GPU",
    "colab": {
      "provenance": [],
      "include_colab_link": true
    },
    "kernelspec": {
      "display_name": "Python 3",
      "name": "python3"
    },
    "language_info": {
      "name": "python"
    }
  },
  "nbformat": 4,
  "nbformat_minor": 0
}