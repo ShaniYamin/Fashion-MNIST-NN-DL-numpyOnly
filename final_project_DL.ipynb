{
  "nbformat": 4,
  "nbformat_minor": 0,
  "metadata": {
    "colab": {
      "provenance": [],
      "machine_shape": "hm",
      "include_colab_link": true
    },
    "kernelspec": {
      "name": "python3",
      "display_name": "Python 3"
    },
    "language_info": {
      "name": "python"
    },
    "accelerator": "GPU",
    "gpuClass": "standard"
  },
  "cells": [
    {
      "cell_type": "markdown",
      "metadata": {
        "id": "view-in-github",
        "colab_type": "text"
      },
      "source": [
        "<a href=\"https://colab.research.google.com/github/ShaniYamin/Fashion-MNIST-NN-DL-numpyOnly/blob/main/final_project_DL.ipynb\" target=\"_parent\"><img src=\"https://colab.research.google.com/assets/colab-badge.svg\" alt=\"Open In Colab\"/></a>"
      ]
    },
    {
      "cell_type": "markdown",
      "source": [
        "# Final Project - Basics of deep learning\n",
        "Hello dear students,<br> This is the template notebook. Please copy it into your drive.\n",
        "\n",
        "---\n",
        "<br>\n",
        "\n",
        "### Name and ID:\n",
        "Student 1:Shani Yamin\n",
        "<br>\n",
        "Student 2:Noam Meir"
      ],
      "metadata": {
        "id": "6-W8kOgHZUhz"
      }
    },
    {
      "cell_type": "markdown",
      "source": [
        "<img src=\"https://storage.googleapis.com/kaggle-competitions/kaggle/20733/logos/header.png?t=2020-05-14-08-44-45\">"
      ],
      "metadata": {
        "id": "S17rzhsdZem0"
      }
    },
    {
      "cell_type": "markdown",
      "source": [
        "# Utils"
      ],
      "metadata": {
        "id": "buJeccWRZX26"
      }
    },
    {
      "cell_type": "markdown",
      "source": [
        "## Import Libraries"
      ],
      "metadata": {
        "id": "52FrgSEzQYWb"
      }
    },
    {
      "cell_type": "code",
      "source": [
        "%%capture\n",
        "import numpy as np\n",
        "import matplotlib.pyplot as plt\n",
        "import pandas as pd\n",
        "import tensorflow as tf\n",
        "import tensorflow_datasets as tfds\n",
        "from keras.utils import load_img\n",
        "from keras.preprocessing import image\n",
        "!pip install -U --no-cache-dir gdown --pre\n",
        "!gdown --id 1DS_5kLbzYYzMWtp1WP3x_hxtRBhroJID"
      ],
      "metadata": {
        "id": "DVQDuMr52due"
      },
      "execution_count": null,
      "outputs": []
    },
    {
      "cell_type": "markdown",
      "source": [
        "## Dataset\n",
        "Cars196 - 196 different classes of vehicles"
      ],
      "metadata": {
        "id": "1hxROtsyjWPW"
      }
    },
    {
      "cell_type": "markdown",
      "source": [
        "### Download Data"
      ],
      "metadata": {
        "id": "IlSkIXYtYQi_"
      }
    },
    {
      "cell_type": "code",
      "source": [
        "%%capture\n",
        "cars196 = tfds.load('Cars196', as_supervised=True, shuffle_files=True)"
      ],
      "metadata": {
        "id": "pOr9XYNO4QS1"
      },
      "execution_count": null,
      "outputs": []
    },
    {
      "cell_type": "markdown",
      "source": [
        "Dictionary of the labels - maps between the label (int) number and the vehicle model (str)"
      ],
      "metadata": {
        "id": "6LpjqcRTZ2gm"
      }
    },
    {
      "cell_type": "code",
      "source": [
        "label_dic = pd.read_csv('/content/labels_dic.csv', header=None, dtype={0: str}).set_index(0).squeeze().to_dict()"
      ],
      "metadata": {
        "id": "wYeQz_hntvY2"
      },
      "execution_count": null,
      "outputs": []
    },
    {
      "cell_type": "markdown",
      "source": [
        "### Function - Plot Single Example\n",
        "This function receives an image and a label and it will display it on a plot"
      ],
      "metadata": {
        "id": "UxFQGdYzYffQ"
      }
    },
    {
      "cell_type": "code",
      "source": [
        "def plot_single_example(image, label, label_dic=label_dic):\n",
        "  car_model_by_label = label_dic[str(label)]\n",
        "  plt.title(f'Image Label: {car_model_by_label} ({label})')\n",
        "  plt.imshow(image)\n"
      ],
      "metadata": {
        "id": "zHABcIRJZOTC"
      },
      "execution_count": null,
      "outputs": []
    },
    {
      "cell_type": "markdown",
      "source": [
        "# Data Preprocessing"
      ],
      "metadata": {
        "id": "5trNlNNHawd6"
      }
    },
    {
      "cell_type": "markdown",
      "source": [
        "### Split Dataset\n",
        "Train set contains 8041 examples<br>\n",
        "Test set contains 8144 examples<br>\n",
        "**It is allowed to change the ratio between the data sets.**\n"
      ],
      "metadata": {
        "id": "t6hlzURV498F"
      }
    },
    {
      "cell_type": "code",
      "source": [
        "cars_train=cars196['train']\n",
        "cars_test=cars196['test']"
      ],
      "metadata": {
        "id": "HYsfRMHu5Ew8"
      },
      "execution_count": null,
      "outputs": []
    },
    {
      "cell_type": "markdown",
      "source": [
        "### Example\n",
        "Random example from the data set"
      ],
      "metadata": {
        "id": "DiXJ1wJCYtgj"
      }
    },
    {
      "cell_type": "code",
      "source": [
        "image, label = cars_train.as_numpy_iterator().next()\n",
        "plot_single_example(image, label)"
      ],
      "metadata": {
        "colab": {
          "base_uri": "https://localhost:8080/",
          "height": 281
        },
        "id": "ygZijXWwbL6w",
        "outputId": "f64ec348-35a6-4271-aaae-777954897d20"
      },
      "execution_count": null,
      "outputs": [
        {
          "output_type": "display_data",
          "data": {
            "text/plain": [
              "<Figure size 432x288 with 1 Axes>"
            ],
            "image/png": "[encoded data removed]"
          },
          "metadata": {
            "needs_background": "light"
          }
        }
      ]
    },
    {
      "cell_type": "markdown",
      "source": [
        "#Data research"
      ],
      "metadata": {
        "id": "T4SGVmXzHtbH"
      }
    },
    {
      "cell_type": "code",
      "source": [
        "print(type(cars_train))\n",
        "print(type(cars_test))"
      ],
      "metadata": {
        "colab": {
          "base_uri": "https://localhost:8080/"
        },
        "id": "7wTlLIa1JSoO",
        "outputId": "9953374a-d554-4d88-85dc-4f94e7b99545"
      },
      "execution_count": null,
      "outputs": [
        {
          "output_type": "stream",
          "name": "stdout",
          "text": [
            "<class 'tensorflow.python.data.ops.dataset_ops.PrefetchDataset'>\n",
            "<class 'tensorflow.python.data.ops.dataset_ops.PrefetchDataset'>\n"
          ]
        }
      ]
    },
    {
      "cell_type": "code",
      "source": [
        "print(image)"
      ],
      "metadata": {
        "colab": {
          "base_uri": "https://localhost:8080/"
        },
        "id": "t6DewfV0ext6",
        "outputId": "dbf07a0c-fd1e-4d86-e61e-c4c476d0cfda"
      },
      "execution_count": null,
      "outputs": [
        {
          "output_type": "stream",
          "name": "stdout",
          "text": [
            "[[[ 72  65  83]\n",
            "  [ 87  80  98]\n",
            "  [ 81  74  92]\n",
            "  ...\n",
            "  [ 90  89 107]\n",
            "  [ 91  90 108]\n",
            "  [ 91  90 108]]\n",
            "\n",
            " [[ 84  77  95]\n",
            "  [ 89  82  98]\n",
            "  [ 80  73  91]\n",
            "  ...\n",
            "  [ 91  90 108]\n",
            "  [ 91  90 108]\n",
            "  [ 91  90 108]]\n",
            "\n",
            " [[ 88  81  97]\n",
            "  [ 86  80  94]\n",
            "  [ 85  78  94]\n",
            "  ...\n",
            "  [ 98  97 115]\n",
            "  [ 98  97 115]\n",
            "  [ 98  97 115]]\n",
            "\n",
            " ...\n",
            "\n",
            " [[ 51  44  51]\n",
            "  [ 59  52  59]\n",
            "  [ 64  57  64]\n",
            "  ...\n",
            "  [ 74  65  66]\n",
            "  [ 78  69  70]\n",
            "  [ 83  74  75]]\n",
            "\n",
            " [[ 63  57  61]\n",
            "  [ 68  62  66]\n",
            "  [ 68  61  68]\n",
            "  ...\n",
            "  [ 64  55  56]\n",
            "  [ 71  62  63]\n",
            "  [ 79  70  71]]\n",
            "\n",
            " [[ 81  75  79]\n",
            "  [ 81  75  79]\n",
            "  [ 72  65  72]\n",
            "  ...\n",
            "  [ 62  53  54]\n",
            "  [ 65  56  57]\n",
            "  [ 71  62  63]]]\n"
          ]
        }
      ]
    },
    {
      "cell_type": "markdown",
      "source": [
        "#Features scaling"
      ],
      "metadata": {
        "id": "R_bh_gDcOwIa"
      }
    },
    {
      "cell_type": "code",
      "source": [],
      "metadata": {
        "id": "P0fFD5csOyvY"
      },
      "execution_count": null,
      "outputs": []
    },
    {
      "cell_type": "markdown",
      "source": [
        "#Image cutting"
      ],
      "metadata": {
        "id": "MXdFNFYQOzeS"
      }
    },
    {
      "cell_type": "code",
      "source": [],
      "metadata": {
        "id": "CepT7FP_PC1Z"
      },
      "execution_count": null,
      "outputs": []
    },
    {
      "cell_type": "markdown",
      "source": [
        "#Create train and valid Datasets"
      ],
      "metadata": {
        "id": "hY4lU-wwPyuH"
      }
    },
    {
      "cell_type": "code",
      "source": [],
      "metadata": {
        "id": "OWlRJKykP7Tc"
      },
      "execution_count": null,
      "outputs": []
    },
    {
      "cell_type": "markdown",
      "source": [
        "#Define data loader"
      ],
      "metadata": {
        "id": "zWqrYuaEQA-z"
      }
    },
    {
      "cell_type": "code",
      "source": [],
      "metadata": {
        "id": "iwqM4cq-QESl"
      },
      "execution_count": null,
      "outputs": []
    },
    {
      "cell_type": "markdown",
      "source": [
        "#Transfer Learning"
      ],
      "metadata": {
        "id": "kZ8xU7ERJTYz"
      }
    },
    {
      "cell_type": "code",
      "source": [
        "from torchvision import datasets,transforms,models\n",
        "# Tansform with data augmentation and normalization for training\n",
        "# Just normalization for validation\n",
        "def transformCompose():\n",
        "  data:transforms.Compose([\n",
        "        transforms.RandomRotation(30),\n",
        "        transforms.RandomResizedCrop(224),\n",
        "        #transforms.RandomResizedCrop(299),  #size for inception architecture\n",
        "        transforms.RandomHorizontalFlip(),\n",
        "        transforms.ToTensor(),\n",
        "        transforms.Normalize([0.485, 0.456, 0.406], [0.229, 0.224, 0.225])\n",
        "    ])\n",
        "data_transforms = {\n",
        "    'train': transformCompose(),\n",
        "    'valid': transformCompose(),\n",
        "    'test': transformCompose(),\n",
        "}"
      ],
      "metadata": {
        "id": "tu14pSADwenU"
      },
      "execution_count": null,
      "outputs": []
    },
    {
      "cell_type": "code",
      "source": [
        "batch_size=32\n",
        "# splitting our data\n",
        "valid_size  = int(0.1 * len(cars_train))\n",
        "train_size = len(cars_train) - valid_size\n",
        "dataset_sizes = {'train': train_size, 'valid': valid_size}"
      ],
      "metadata": {
        "id": "zyG9khc21Mrr"
      },
      "execution_count": null,
      "outputs": []
    },
    {
      "cell_type": "code",
      "source": [
        "import torch\n",
        "# now we get our datasets\n",
        "train_dataset, valid_dataset = torch.utils.data.random_split(cars_train, [train_size, valid_size])"
      ],
      "metadata": {
        "id": "Ytfi0HsC2kS9"
      },
      "execution_count": null,
      "outputs": []
    },
    {
      "cell_type": "code",
      "source": [
        "from torch.utils.data import DataLoader\n",
        "# Loading datasets into dataloader \n",
        "dataloaders = {'train': DataLoader(train_dataset, batch_size = batch_size, shuffle = True),\n",
        "              'valid': DataLoader(valid_dataset, batch_size = batch_size, shuffle = False)}"
      ],
      "metadata": {
        "id": "xHh94lzE2rHM"
      },
      "execution_count": null,
      "outputs": []
    },
    {
      "cell_type": "code",
      "source": [
        "print(\"Total Number of Samples: \",len(cars_train))\n",
        "print(\"Number of Samples in Train: \",len(train_dataset))\n",
        "print(\"Number of Samples in Valid: \",len(valid_dataset))\n",
        "#print(\"Number of Classes: \",len(cars_train.classes))\n",
        "\n",
        "#print(cars_train.classes[0])"
      ],
      "metadata": {
        "colab": {
          "base_uri": "https://localhost:8080/"
        },
        "id": "pnsVJjOo22_1",
        "outputId": "f375de67-6912-4e27-a143-38ff79a85ca0"
      },
      "execution_count": null,
      "outputs": [
        {
          "output_type": "stream",
          "name": "stdout",
          "text": [
            "Total Number of Samples:  8144\n",
            "Number of Samples in Train:  7330\n",
            "Number of Samples in Valid:  814\n"
          ]
        }
      ]
    },
    {
      "cell_type": "code",
      "source": [
        "(label_dic.values())"
      ],
      "metadata": {
        "colab": {
          "base_uri": "https://localhost:8080/",
          "height": 166
        },
        "id": "RTLV57PD9NFy",
        "outputId": "ea6fe0a7-88a2-4d68-fbf7-9c81df6524b0"
      },
      "execution_count": null,
      "outputs": [
        {
          "output_type": "error",
          "ename": "TypeError",
          "evalue": "ignored",
          "traceback": [
            "\u001b[0;31m---------------------------------------------------------------------------\u001b[0m",
            "\u001b[0;31mTypeError\u001b[0m                                 Traceback (most recent call last)",
            "\u001b[0;32m<ipython-input-38-7e21be217585>\u001b[0m in \u001b[0;36m<module>\u001b[0;34m\u001b[0m\n\u001b[0;32m----> 1\u001b[0;31m \u001b[0;34m(\u001b[0m\u001b[0mlabel_dic\u001b[0m\u001b[0;34m.\u001b[0m\u001b[0mvalues\u001b[0m\u001b[0;34m(\u001b[0m\u001b[0;34m)\u001b[0m\u001b[0;34m)\u001b[0m\u001b[0;34m[\u001b[0m\u001b[0;36m0\u001b[0m\u001b[0;34m]\u001b[0m\u001b[0;34m\u001b[0m\u001b[0;34m\u001b[0m\u001b[0m\n\u001b[0m",
            "\u001b[0;31mTypeError\u001b[0m: 'dict_values' object is not subscriptable"
          ]
        }
      ]
    },
    {
      "cell_type": "markdown",
      "source": [
        "##Experiment 1"
      ],
      "metadata": {
        "id": "fhnRAZLJM_5N"
      }
    },
    {
      "cell_type": "code",
      "source": [
        "#Description"
      ],
      "metadata": {
        "id": "mNX26TH7KO51"
      },
      "execution_count": null,
      "outputs": []
    },
    {
      "cell_type": "code",
      "source": [
        "#Hyper parameters"
      ],
      "metadata": {
        "id": "TDFasnZvLOPP"
      },
      "execution_count": null,
      "outputs": []
    },
    {
      "cell_type": "code",
      "source": [
        "#Ogmentation"
      ],
      "metadata": {
        "id": "-mUS6iDnLQwH"
      },
      "execution_count": null,
      "outputs": []
    },
    {
      "cell_type": "code",
      "source": [
        "#Arcitecture"
      ],
      "metadata": {
        "id": "HITTHdZ5LT3r"
      },
      "execution_count": null,
      "outputs": []
    },
    {
      "cell_type": "code",
      "source": [
        "#Visualize\n",
        "#plot of loss and acc for train and validation\n",
        "#precision accuracy"
      ],
      "metadata": {
        "id": "Kj67VO0mLXSq"
      },
      "execution_count": null,
      "outputs": []
    },
    {
      "cell_type": "code",
      "source": [
        "#System performance"
      ],
      "metadata": {
        "id": "37u6sWPELbC9"
      },
      "execution_count": null,
      "outputs": []
    },
    {
      "cell_type": "code",
      "source": [
        "#Conclusion"
      ],
      "metadata": {
        "id": "IHE2K1ifMF6S"
      },
      "execution_count": null,
      "outputs": []
    },
    {
      "cell_type": "code",
      "source": [
        "#Visualize between experiments"
      ],
      "metadata": {
        "id": "g6QLuRUPN4L0"
      },
      "execution_count": null,
      "outputs": []
    },
    {
      "cell_type": "markdown",
      "source": [
        "##Experiment 2"
      ],
      "metadata": {
        "id": "Ti3-dXtFNJCx"
      }
    },
    {
      "cell_type": "code",
      "source": [],
      "metadata": {
        "id": "vOsLjA3RNMop"
      },
      "execution_count": null,
      "outputs": []
    },
    {
      "cell_type": "markdown",
      "source": [
        "##Experiment 3"
      ],
      "metadata": {
        "id": "9tDwV4iVNNNN"
      }
    },
    {
      "cell_type": "code",
      "source": [],
      "metadata": {
        "id": "WSGkKyF9NOVr"
      },
      "execution_count": null,
      "outputs": []
    },
    {
      "cell_type": "markdown",
      "source": [
        "##Best experiment Transfer Learning"
      ],
      "metadata": {
        "id": "A4YXJpn2KkDa"
      }
    },
    {
      "cell_type": "code",
      "source": [],
      "metadata": {
        "id": "ep000ZXmK25_"
      },
      "execution_count": null,
      "outputs": []
    },
    {
      "cell_type": "markdown",
      "source": [
        "#Image retrieval"
      ],
      "metadata": {
        "id": "PhKwSG4oKTXA"
      }
    },
    {
      "cell_type": "markdown",
      "source": [
        "##Experiment 1"
      ],
      "metadata": {
        "id": "xwuiHDlgNo9P"
      }
    },
    {
      "cell_type": "code",
      "source": [],
      "metadata": {
        "id": "rhdE5AclKa7A"
      },
      "execution_count": null,
      "outputs": []
    },
    {
      "cell_type": "markdown",
      "source": [
        "##Experiment 2"
      ],
      "metadata": {
        "id": "9jfazQxuNp2k"
      }
    },
    {
      "cell_type": "code",
      "source": [],
      "metadata": {
        "id": "toREDtH2Nqp_"
      },
      "execution_count": null,
      "outputs": []
    },
    {
      "cell_type": "markdown",
      "source": [
        "##Experiment 3"
      ],
      "metadata": {
        "id": "ySxnlDzPNrGz"
      }
    },
    {
      "cell_type": "code",
      "source": [],
      "metadata": {
        "id": "TU4L3du8NsDh"
      },
      "execution_count": null,
      "outputs": []
    },
    {
      "cell_type": "markdown",
      "source": [
        "##Best experiment for Image retrieval"
      ],
      "metadata": {
        "id": "JKZYKgULKs7O"
      }
    },
    {
      "cell_type": "code",
      "source": [],
      "metadata": {
        "id": "avcJUFSKKuZX"
      },
      "execution_count": null,
      "outputs": []
    },
    {
      "cell_type": "markdown",
      "source": [
        "#End to End CNN"
      ],
      "metadata": {
        "id": "M3DC0j7eKbwF"
      }
    },
    {
      "cell_type": "markdown",
      "source": [
        "##Experiment 1"
      ],
      "metadata": {
        "id": "R8G-s7GGNfwD"
      }
    },
    {
      "cell_type": "code",
      "source": [],
      "metadata": {
        "id": "OM8ptjLiKd78"
      },
      "execution_count": null,
      "outputs": []
    },
    {
      "cell_type": "markdown",
      "source": [
        "##Experiment 2"
      ],
      "metadata": {
        "id": "8sOqjkxVNh-Y"
      }
    },
    {
      "cell_type": "code",
      "source": [],
      "metadata": {
        "id": "l5ZUvLQONi9q"
      },
      "execution_count": null,
      "outputs": []
    },
    {
      "cell_type": "markdown",
      "source": [
        "##Experiment 3"
      ],
      "metadata": {
        "id": "8R81Lw_1NjUa"
      }
    },
    {
      "cell_type": "code",
      "source": [],
      "metadata": {
        "id": "CaRCIkYDNkMY"
      },
      "execution_count": null,
      "outputs": []
    },
    {
      "cell_type": "markdown",
      "source": [
        "##Best experiment for End to End CNN"
      ],
      "metadata": {
        "id": "QsKk_8aFKgEZ"
      }
    },
    {
      "cell_type": "code",
      "source": [],
      "metadata": {
        "id": "WBkGtphVK6zz"
      },
      "execution_count": null,
      "outputs": []
    }
  ]
}